{
  "nbformat": 4,
  "nbformat_minor": 0,
  "metadata": {
    "colab": {
      "name": "Intesab_Python_Assignment.ipynb",
      "provenance": [],
      "collapsed_sections": []
    },
    "kernelspec": {
      "name": "python3",
      "display_name": "Python 3"
    },
    "language_info": {
      "name": "python"
    }
  },
  "cells": [
    {
      "cell_type": "markdown",
      "metadata": {
        "id": "wYLuWMG4WQaM"
      },
      "source": [
        ""
      ]
    },
    {
      "cell_type": "markdown",
      "metadata": {
        "id": "GLc9edHYWepP"
      },
      "source": [
        "Question 1. Write a Python program to get a string made of the first 2 and the last 2 chars from a given string. If the string length is less than 2, return instead of the empty string."
      ]
    },
    {
      "cell_type": "code",
      "metadata": {
        "colab": {
          "base_uri": "https://localhost:8080/"
        },
        "id": "abVVXW2WWmQN",
        "outputId": "f9f8deda-b1ff-4061-811e-333f95ec1003"
      },
      "source": [
        "str = input(\"Enter any string   \")\n",
        "\n",
        "if len(str)<2:\n",
        "  print(\"Empty String\")\n",
        "\n",
        "else:\n",
        "  print(str[:2] + str[-2:])"
      ],
      "execution_count": null,
      "outputs": [
        {
          "output_type": "stream",
          "text": [
            "Enter any string   w\n",
            "Empty String\n"
          ],
          "name": "stdout"
        }
      ]
    },
    {
      "cell_type": "markdown",
      "metadata": {
        "id": "QGSov7YjXWMY"
      },
      "source": [
        "Question 2. Write a Python program to\n",
        "get the largest number from a list."
      ]
    },
    {
      "cell_type": "code",
      "metadata": {
        "colab": {
          "base_uri": "https://localhost:8080/"
        },
        "id": "fE5CJ3yCXEvW",
        "outputId": "68d28672-daa1-4f2c-97d0-7ad33ec32fa8"
      },
      "source": [
        "stored_values = []\n",
        "\n",
        "for i in range(2,14): # just to start from 2 i.e. jumping from 0 and 1..\n",
        "  stored_values.append(i)\n",
        "\n",
        "print(max(stored_values))"
      ],
      "execution_count": null,
      "outputs": [
        {
          "output_type": "stream",
          "text": [
            "13\n"
          ],
          "name": "stdout"
        }
      ]
    },
    {
      "cell_type": "markdown",
      "metadata": {
        "id": "UcE8R2dtYXc-"
      },
      "source": [
        "Question 3. Write a Python script to\n",
        "concatenate following dictionaries to create a new one."
      ]
    },
    {
      "cell_type": "code",
      "metadata": {
        "colab": {
          "base_uri": "https://localhost:8080/"
        },
        "id": "Wbm5tGyIX_0G",
        "outputId": "19752746-ea19-43ae-a38f-4c314c0db049"
      },
      "source": [
        "dic1={1:10, 2:20}\n",
        "\n",
        "dic2={3:30, 4:40}\n",
        "\n",
        "dic3={5:50,6:60}\n",
        "\n",
        "dic_final = {}\n",
        "\n",
        "for i in (dic1 , dic2 , dic3):\n",
        "  dic_final.update(i)\n",
        "\n",
        "print(dic_final)"
      ],
      "execution_count": null,
      "outputs": [
        {
          "output_type": "stream",
          "text": [
            "{1: 10, 2: 20, 3: 30, 4: 40, 5: 50, 6: 60}\n"
          ],
          "name": "stdout"
        }
      ]
    },
    {
      "cell_type": "markdown",
      "metadata": {
        "id": "NIAtg4f8as_D"
      },
      "source": [
        "Question 4.  Write a Python program which\n",
        "accepts the radius of a circle from the user and compute the area."
      ]
    },
    {
      "cell_type": "code",
      "metadata": {
        "colab": {
          "base_uri": "https://localhost:8080/"
        },
        "id": "l3Ltr-oMYkql",
        "outputId": "6bfe8d16-4539-44b9-b007-60394446dd1c"
      },
      "source": [
        "import math\n",
        "radius = float(input(\"Enter the value for radius  \"))\n",
        "def circle_area(radius):\n",
        "  return math.pi*radius*radius\n",
        "val = circle_area(radius)\n",
        "print(val)"
      ],
      "execution_count": null,
      "outputs": [
        {
          "output_type": "stream",
          "text": [
            "Enter the value for radius  1.1\n",
            "3.8013271108436504\n"
          ],
          "name": "stdout"
        }
      ]
    },
    {
      "cell_type": "markdown",
      "metadata": {
        "id": "pxnSzpdjbadi"
      },
      "source": [
        "Question 5. Write a Python program that accepts an integer (n) and computes the value of n+nn+nnn."
      ]
    },
    {
      "cell_type": "code",
      "metadata": {
        "id": "l-pMjW3Pa54O",
        "colab": {
          "base_uri": "https://localhost:8080/"
        },
        "outputId": "b46c6962-5a3a-499a-a947-f9370af8bec3"
      },
      "source": [
        "value = int(input(\"Enter any integer :: \"))\n",
        "\n",
        "def compute_val(val):\n",
        "  temp_val = val + ((val*10)+val) + ((val * 100)+(val*10)+val)\n",
        "  return temp_val\n",
        "\n",
        "output = compute_val(value)\n",
        "\n",
        "print(output)"
      ],
      "execution_count": null,
      "outputs": [
        {
          "output_type": "stream",
          "text": [
            "Enter any integer :: 3\n",
            "369\n"
          ],
          "name": "stdout"
        }
      ]
    },
    {
      "cell_type": "markdown",
      "metadata": {
        "id": "F_xGvw5QdLRx"
      },
      "source": [
        "Question 6. Write a Python program to\n",
        "calculate the number of days between two dates."
      ]
    },
    {
      "cell_type": "code",
      "metadata": {
        "id": "vMxo7KL6b080",
        "colab": {
          "base_uri": "https://localhost:8080/"
        },
        "outputId": "b69fb0d0-ae9d-43e7-dcd6-68a6918aec30"
      },
      "source": [
        "from datetime import date\n",
        "\n",
        "first_date = date(2014, 7, 2)\n",
        "last_date = date(2014, 7, 11)\n",
        "\n",
        "date_gap = last_date - first_date\n",
        "print(date_gap.days)"
      ],
      "execution_count": null,
      "outputs": [
        {
          "output_type": "stream",
          "text": [
            "9\n"
          ],
          "name": "stdout"
        }
      ]
    },
    {
      "cell_type": "markdown",
      "metadata": {
        "id": "Hbjj-lg3eLsW"
      },
      "source": [
        "Question 7. Write a Python program to get a new string from a given string where \"Is\" has been added to the front. If the given string already begins with \"Is\" then return the string unchanged."
      ]
    },
    {
      "cell_type": "code",
      "metadata": {
        "colab": {
          "base_uri": "https://localhost:8080/"
        },
        "id": "rdwwNbE6dmmP",
        "outputId": "c32c688b-9c73-4422-9e39-9d69f9c0831a"
      },
      "source": [
        "str = input(\"Enter any string of your choice :: \")\n",
        "\n",
        "def prepend_Is(s):\n",
        "  if len(s) >=2 and s[:2]==\"Is\":\n",
        "    return s\n",
        "\n",
        "  return \"Is\"+s\n",
        "\n",
        "show = prepend_Is(str)\n",
        "\n",
        "print(show)"
      ],
      "execution_count": null,
      "outputs": [
        {
          "output_type": "stream",
          "text": [
            "Enter any string of your choice :: isapple\n",
            "Isisapple\n"
          ],
          "name": "stdout"
        }
      ]
    },
    {
      "cell_type": "markdown",
      "metadata": {
        "id": "Oq9DKPp6f_9X"
      },
      "source": [
        "Question 8. Write a Python program to \n",
        "find whether a given number (accept from the user) is even or odd, print out an appropriate message to the user."
      ]
    },
    {
      "cell_type": "code",
      "metadata": {
        "colab": {
          "base_uri": "https://localhost:8080/"
        },
        "id": "-6BN3Asafoqa",
        "outputId": "ca07ae55-7865-42ca-c9da-a01ce4b6142d"
      },
      "source": [
        "val = int(input(\"Enter any value :: \"))\n",
        "\n",
        "def check_val(num):\n",
        "  if num % 2 == 0:\n",
        "    return \" Is an even number \"\n",
        "\n",
        "  return \" Is an odd number \"\n",
        "\n",
        "show = check_val(val)\n",
        "print(show)"
      ],
      "execution_count": null,
      "outputs": [
        {
          "output_type": "stream",
          "text": [
            "Enter any value :: 89\n",
            " Is an odd number \n"
          ],
          "name": "stdout"
        }
      ]
    },
    {
      "cell_type": "markdown",
      "metadata": {
        "id": "yjqAG1dbgy5k"
      },
      "source": [
        "Question 9. Write a Python program to\n",
        "test whether a passed letter is a vowel or not."
      ]
    },
    {
      "cell_type": "code",
      "metadata": {
        "colab": {
          "base_uri": "https://localhost:8080/"
        },
        "id": "I7_76Ni2gker",
        "outputId": "b2ba954c-d9a1-4baf-e6a0-60410028c3ed"
      },
      "source": [
        "letter = input(\"Enter any alphabetical letter :: \")\n",
        "\n",
        "def is_vowel(letter):\n",
        "  vowel = ['a','A','e','E','i','I','o','O','u','U']\n",
        "\n",
        "  if letter not in (vowel):\n",
        "    return \"Is not a vowel letter\"\n",
        "  return \"Is a vowel letter\"\n",
        "\n",
        "out = is_vowel(letter)\n",
        "\n",
        "print(out)"
      ],
      "execution_count": null,
      "outputs": [
        {
          "output_type": "stream",
          "text": [
            "Enter any alphabetical letter :: o\n",
            "Is a vowel letter\n"
          ],
          "name": "stdout"
        }
      ]
    },
    {
      "cell_type": "markdown",
      "metadata": {
        "id": "LWqbi4dHhl6I"
      },
      "source": [
        "Question 10. Write a Python program to\n",
        "concatenate all elements in a list into a string and return it."
      ]
    },
    {
      "cell_type": "code",
      "metadata": {
        "colab": {
          "base_uri": "https://localhost:8080/"
        },
        "id": "yoCUIBuWhbqc",
        "outputId": "ad5a592e-197a-482c-c72f-17d16c2d5bf3"
      },
      "source": [
        "list_val = [\"Hello\" , \"Everyone\" , \"How\" , \"Are\" , \"You\" ,\"?\"]\n",
        "\n",
        "def list_to_string(list_val):\n",
        "  concatenation = ''\n",
        "\n",
        "  concatenation = ' '.join(list_val)\n",
        "  return concatenation\n",
        "\n",
        "print(list_to_string(list_val))"
      ],
      "execution_count": null,
      "outputs": [
        {
          "output_type": "stream",
          "text": [
            "Hello Everyone How Are You ?\n"
          ],
          "name": "stdout"
        }
      ]
    },
    {
      "cell_type": "code",
      "metadata": {
        "id": "zPLMPjSCh8Vy"
      },
      "source": [
        ""
      ],
      "execution_count": null,
      "outputs": []
    },
    {
      "cell_type": "markdown",
      "metadata": {
        "id": "tfgLd6wgnGAP"
      },
      "source": [
        "Question 11. Write a Python program to\n",
        "print out a set containing all the colors from color_list_1 which are not present in color_list_2.\n",
        "\n"
      ]
    },
    {
      "cell_type": "code",
      "metadata": {
        "id": "9XPZ_a03neyQ",
        "colab": {
          "base_uri": "https://localhost:8080/"
        },
        "outputId": "1bb60a76-c199-4c89-c8ab-d817fc4bd3cd"
      },
      "source": [
        "color_list_1 = set([\"White\",\n",
        "\"Black\", \"Red\"])\n",
        "\n",
        "color_list_2 = set([\"Red\",\n",
        "\"Green\"])\n",
        "\n",
        "for i, j in zip(color_list_1 , color_list_2):\n",
        "   if i not in j:\n",
        "     print({i,})\n"
      ],
      "execution_count": 102,
      "outputs": [
        {
          "output_type": "stream",
          "text": [
            "{'Black'}\n",
            "{'White'}\n"
          ],
          "name": "stdout"
        }
      ]
    },
    {
      "cell_type": "markdown",
      "metadata": {
        "id": "HxPB-qrxqvvi"
      },
      "source": [
        "Question 12. Write a function in a\n",
        "Python program to compute the greatest common divisor (GCD) of two positive integers."
      ]
    },
    {
      "cell_type": "code",
      "metadata": {
        "id": "VIDJbWzCnw_I",
        "colab": {
          "base_uri": "https://localhost:8080/"
        },
        "outputId": "8825057b-4cc7-43ed-fd7e-c9183677f99b"
      },
      "source": [
        "def gcd(num1, num2):\n",
        "  if(num2 == 0):\n",
        "    return num1\n",
        "  \n",
        "  else:\n",
        "    return gcd(num2 , num1%num2)\n",
        "\n",
        "num1 = int(input(\"First Number\"))\n",
        "num2 = int(input(\"Second Number\"))\n",
        "print(gcd(num1 , num2))"
      ],
      "execution_count": 109,
      "outputs": [
        {
          "output_type": "stream",
          "text": [
            "First Number5\n",
            "Second Number10\n",
            "5\n"
          ],
          "name": "stdout"
        }
      ]
    },
    {
      "cell_type": "markdown",
      "metadata": {
        "id": "7r0f6Tj0r-JJ"
      },
      "source": [
        "Question 13.  Write a Python function\n",
        "which accepts two arguments x and y and returns (x + y) * (x + y).\n"
      ]
    },
    {
      "cell_type": "code",
      "metadata": {
        "colab": {
          "base_uri": "https://localhost:8080/"
        },
        "id": "gnInk_7vo_uY",
        "outputId": "5274bdc6-d65f-4113-dc6d-86a2bcce8f7d"
      },
      "source": [
        "def math_operation(x, y):\n",
        "  return (x+y) * (x+y)\n",
        "\n",
        "print(math_operation(int(input(\"first\")) , int(input(\"second\"))))"
      ],
      "execution_count": 112,
      "outputs": [
        {
          "output_type": "stream",
          "text": [
            "first4\n",
            "second3\n",
            "49\n"
          ],
          "name": "stdout"
        }
      ]
    },
    {
      "cell_type": "markdown",
      "metadata": {
        "id": "TxKLV0ZlsgYN"
      },
      "source": [
        "Question 14. Given the below code\n",
        "snippet, answer the following questions.\n",
        "\n",
        "def num_square(num):\n",
        "  square = num * num\n",
        "  return square\n",
        "\n",
        "input_num = 121\n",
        "\n",
        "if input_num > 100:\n",
        "  result = num_square(5)\n",
        "\n",
        "print(result)\n",
        "\n",
        "\n",
        "print(num)\n",
        "\n",
        "\n",
        "\n",
        "<!--                       -->\n",
        "\n",
        "\n",
        "What is the scope of num,\n",
        "square, input_num, result?\n",
        "\n",
        "\n",
        "\n",
        "What is the lifetime of each\n",
        "variable? When will they be created and destroyed?\n",
        "\n",
        "\n",
        "\n",
        "What would happen if\n",
        "input_num had a value of less than 100?\n",
        "\n",
        "\n",
        "\n",
        "What would be the scope and\n",
        "value of `result` if input_num has a value of less than 100?\n",
        "\n"
      ]
    },
    {
      "cell_type": "markdown",
      "metadata": {
        "id": "qb7rS83pt96C"
      },
      "source": [
        "**Answer 14.**\n",
        "\n",
        "1. Local , Local , Global , Global\n",
        "\n",
        "2. The variable 'square' and 'num' is create as soon as the function ** num_square()** is called and destroyed after the execution of the last statement. Whereas the 'input_num' and result are created once.\n",
        "\n",
        "3. If 'input_value' is less than 100 then nothing will get printed.\n",
        "\n",
        "4. It will still exist."
      ]
    },
    {
      "cell_type": "code",
      "metadata": {
        "id": "oC0SCHWesSgX"
      },
      "source": [
        "# def num_square(num):\n",
        "#   square = num * num\n",
        "#   return square\n",
        "\n",
        "# input_num = 121\n",
        "\n",
        "# if input_num < 100:\n",
        "#   result = num_square(5)\n",
        "\n",
        "#   print(result)\n",
        "\n",
        "\n",
        "# result == result"
      ],
      "execution_count": 130,
      "outputs": []
    },
    {
      "cell_type": "markdown",
      "metadata": {
        "id": "OFe4X1SIyG-a"
      },
      "source": [
        "Question 15. Create a class called\n",
        "Country\n",
        "\n",
        "which has a single class\n",
        "attribute called AVG_POPULATION.\n",
        "\n",
        " Set it to some default\n",
        "value.\n",
        "\n",
        "The constructor takes the\n",
        "parameters country_name and country_code.\n",
        "\n",
        "The constructor must check\n",
        "that country_name and country_code are strings. If not it must throw a ValueError.\n",
        "\n",
        "The constructor must check\n",
        "if the country code is exactly 3 letters long. If not it must throw a ValueError."
      ]
    },
    {
      "cell_type": "code",
      "metadata": {
        "colab": {
          "base_uri": "https://localhost:8080/"
        },
        "id": "5oYN4jtEtNDv",
        "outputId": "40dc7b43-95c5-4b8b-ef2e-8f1fed0133ff"
      },
      "source": [
        "from six import string_types\n",
        "class Country:\n",
        "  AVG_POPULATION = 2500\n",
        "  # temp_name = ''\n",
        "  # temp_code = ''\n",
        "  def __init__(self , country_name , country_code):\n",
        "    self.country_name = country_name\n",
        "    self.country_code = country_code\n",
        "    def check():\n",
        "      if (isinstance(self.country_name , str) and isinstance(self.country_code , str)):\n",
        "        # if(isinstance(self.country_name , string_types) and isinstance(self.country_code , string_types)):\n",
        "        return True\n",
        "      \n",
        "      else:\n",
        "        ValueError(\"Error occured !\")\n",
        "    # try:\n",
        "    #   self.country_code.len(3)\n",
        "    # except ValueError as err:\n",
        "    #   print(\"Not three letters long code \")\n",
        "\n",
        "\n",
        "  def country_short_form(self, country_name):\n",
        "    return self.country_name[:2].upper()\n",
        "\n",
        "  def is_densely_populated(self , population):\n",
        "    self.population = population\n",
        "    if(self.population > self.AVG_POPULATION):\n",
        "      return True\n",
        "    else:\n",
        "      return False\n",
        "\n",
        "  @staticmethod\n",
        "  def world_avg_population(self , arr):\n",
        "    sum = 0\n",
        "    count = 0\n",
        "    for i in (self.arr):\n",
        "      sum += i\n",
        "      count += 1\n",
        "    return sum/count\n",
        "\n",
        "  @property\n",
        "\n",
        "  def formatted_country_name(self, country_name , country_code):\n",
        "    return self.country_name + \"(\"+self.country_code +\")\"\n",
        "\n",
        "  @formatted_country_name.setter \n",
        "  def formatted_country_name(self,  country_name):\n",
        "    self.country_name = country_name\n",
        "    \n",
        "\n",
        "  @formatted_country_name.setter\n",
        "  def formatted_country_name(self , country_code):\n",
        "    self.country_code = country_code\n",
        "\n",
        "  @formatted_country_name.deleter\n",
        "  def formatted_country_name(self):\n",
        "    del self.country_name, country_code\n",
        "\n",
        "\n",
        "\n",
        "userInput = Country(\"India\" , \"4324553\")\n",
        "# print(userInput.world_avg_population([1,2,3,4,4]))\n",
        "print(userInput.country_short_form(\"India\"))\n",
        "\n",
        "print(userInput.country_name)\n",
        "print(userInput.country_code)\n",
        "\n",
        "# form = formatted_country_name\n",
        "print(userInput.is_densely_populated(75421))\n",
        "\n",
        "# print(userInput.country_short_form(\"SriLanka\"))\n",
        "\n",
        "userInput.formatted_country_name = \"Bangladesh\" , \"4555\"\n",
        "\n",
        "print(userInput.country_name)"
      ],
      "execution_count": 234,
      "outputs": [
        {
          "output_type": "stream",
          "text": [
            "IN\n",
            "India\n",
            "4324553\n",
            "True\n",
            "India\n"
          ],
          "name": "stdout"
        }
      ]
    },
    {
      "cell_type": "markdown",
      "metadata": {
        "id": "sV9ufgU-HMU8"
      },
      "source": [
        "Question 16. \n"
      ]
    },
    {
      "cell_type": "code",
      "metadata": {
        "id": "ZnXkwKu92FXl"
      },
      "source": [
        "class Shapes:\n",
        "  def __init__(self , length=8 , height=7):\n",
        "    self.__length = length\n",
        "    self.__height = height\n",
        "\n",
        "    def show(self):\n",
        "      return self.__length + \" \"+ self.__height\n",
        "    \n",
        "    def add(self):\n",
        "      \n",
        "      return self.__length + self.__height\n",
        "    \n",
        "\n",
        "class Triangle(Shapes):\n",
        "  def __init__(self, one_side = 8):\n",
        "    super().__init__()\n",
        "    self.__one_side = one_side\n",
        "\n",
        "  def get_side(self):\n",
        "    return self.__one_side\n",
        "\n",
        "\n",
        "class Quadrilateral(Shapes):\n",
        "  def __init__(self , diagonal=7):\n",
        "    super().__init__()\n",
        "    self.__diagonal = diagonal\n",
        "  \n",
        "  def show_diag(self):\n",
        "    return self.__diagonal\n",
        "\n",
        "\n",
        "\n",
        "class Child_Triangle(Triangle):\n",
        "  def __init__(self , firstangle=78 , secondangle=65):\n",
        "    super().__init__()\n",
        "    self.__firstangle = firstangle\n",
        "    self.__secondangle = secondangle\n",
        "\n",
        "  def child_triangle_func(self):\n",
        "    # return self.__firstangle+\" \"+ self.__secondangle\n",
        "    print(self.__firstangle , self.__secondangle)\n",
        "\n",
        "class Child_Quad(Quadrilateral):\n",
        "  def __init__(self , side3 , side4):\n",
        "    super().__init__()\n",
        "    self.__side3 = side3\n",
        "    self.__side4 = side4\n",
        "\n",
        "\n",
        "  def child_quad_func(self):\n",
        "    # print(self.__side3 , self.__side4)\n",
        "    return self.__side3+\" \"+self.__side4"
      ],
      "execution_count": 314,
      "outputs": []
    },
    {
      "cell_type": "code",
      "metadata": {
        "colab": {
          "base_uri": "https://localhost:8080/"
        },
        "id": "Uq63FYYkIazj",
        "outputId": "50215c08-9958-46cd-9975-c4f37c110de6"
      },
      "source": [
        "q = Quadrilateral(89)\n",
        "cT = Child_Triangle(70)\n",
        "print(q.show_diag())\n",
        "# print(cT.child_triangle_func())\n",
        "\n",
        "t = Triangle()\n",
        "print(t.get_side())"
      ],
      "execution_count": 319,
      "outputs": [
        {
          "output_type": "stream",
          "text": [
            "89\n",
            "8\n"
          ],
          "name": "stdout"
        }
      ]
    },
    {
      "cell_type": "markdown",
      "metadata": {
        "id": "5Ph1SDKtW281"
      },
      "source": [
        "Question 17."
      ]
    },
    {
      "cell_type": "code",
      "metadata": {
        "id": "oFE9KXjmMEjp"
      },
      "source": [
        "num0 = 10\n",
        "\n",
        "def five_exception():\n",
        "  try:\n",
        "    num1 = input(\"Enter 1st number:\")\n",
        "    num2 = input(\"Enter 2nd number:\")\n",
        "    result = (int(num1) * int(num2))/(num0 * int(num2))\n",
        "  except ValueError as ve:\n",
        "    print(\"Value Error\")\n",
        "    exit()\n",
        "  except ZeroDivisionError as zde:\n",
        "    print(\"Zero Division Error\")\n",
        "    exit()\n",
        "  except TypeError as te:\n",
        "    print(\"Type Error\")\n",
        "    exit()\n",
        "  except SystemError as se:\n",
        "    print(\"System Error\")\n",
        "    exit()\n",
        "  except ModuleNotFoundError:\n",
        "    print('Module Not Found Error')\n",
        "    exit()\n",
        "  print(result)\n"
      ],
      "execution_count": 1,
      "outputs": []
    },
    {
      "cell_type": "code",
      "metadata": {
        "colab": {
          "base_uri": "https://localhost:8080/",
          "height": 299
        },
        "id": "nyQ_wTcdPIQA",
        "outputId": "d0c87c84-3eb6-479b-d141-f67ea5090d57"
      },
      "source": [
        "obj = five_exception()"
      ],
      "execution_count": 2,
      "outputs": [
        {
          "output_type": "stream",
          "text": [
            "Enter 1st number:12\n",
            "Enter 2nd number:0\n",
            "Zero Division Error\n"
          ],
          "name": "stdout"
        },
        {
          "output_type": "error",
          "ename": "UnboundLocalError",
          "evalue": "ignored",
          "traceback": [
            "\u001b[0;31m---------------------------------------------------------------------------\u001b[0m",
            "\u001b[0;31mUnboundLocalError\u001b[0m                         Traceback (most recent call last)",
            "\u001b[0;32m<ipython-input-2-96bef3fe47b4>\u001b[0m in \u001b[0;36m<module>\u001b[0;34m()\u001b[0m\n\u001b[0;32m----> 1\u001b[0;31m \u001b[0mobj\u001b[0m \u001b[0;34m=\u001b[0m \u001b[0mfive_exception\u001b[0m\u001b[0;34m(\u001b[0m\u001b[0;34m)\u001b[0m\u001b[0;34m\u001b[0m\u001b[0;34m\u001b[0m\u001b[0m\n\u001b[0m",
            "\u001b[0;32m<ipython-input-1-6c2dab108d84>\u001b[0m in \u001b[0;36mfive_exception\u001b[0;34m()\u001b[0m\n\u001b[1;32m     21\u001b[0m     \u001b[0mprint\u001b[0m\u001b[0;34m(\u001b[0m\u001b[0;34m'Module Not Found Error'\u001b[0m\u001b[0;34m)\u001b[0m\u001b[0;34m\u001b[0m\u001b[0;34m\u001b[0m\u001b[0m\n\u001b[1;32m     22\u001b[0m     \u001b[0mexit\u001b[0m\u001b[0;34m(\u001b[0m\u001b[0;34m)\u001b[0m\u001b[0;34m\u001b[0m\u001b[0;34m\u001b[0m\u001b[0m\n\u001b[0;32m---> 23\u001b[0;31m   \u001b[0mprint\u001b[0m\u001b[0;34m(\u001b[0m\u001b[0mresult\u001b[0m\u001b[0;34m)\u001b[0m\u001b[0;34m\u001b[0m\u001b[0;34m\u001b[0m\u001b[0m\n\u001b[0m",
            "\u001b[0;31mUnboundLocalError\u001b[0m: local variable 'result' referenced before assignment"
          ]
        }
      ]
    },
    {
      "cell_type": "markdown",
      "metadata": {
        "id": "0IAd1AHOZUi0"
      },
      "source": [
        "Question 18."
      ]
    },
    {
      "cell_type": "code",
      "metadata": {
        "id": "MMt9vKpAW9HC"
      },
      "source": [
        "class Custom_Exception_One(Exception):\n",
        "  def __init__(self , *args):\n",
        "    super().__init__()\n",
        "    pass\n",
        "\n",
        "\n",
        "class Custom_Exception_Two(Exception):\n",
        "  def __init__(self,*args):\n",
        "    super().__init__()\n",
        "    pass\n",
        "\n",
        "\n",
        "class Custom_Exception_Three(Exception):\n",
        "  def __init__(self , *args):\n",
        "    super().__init__()\n",
        "    pass\n",
        "\n",
        "\n",
        "class Custom_Exception_Four(Exception):\n",
        "  def __init(self, *args):\n",
        "    super().__init__()\n",
        "    pass\n"
      ],
      "execution_count": 99,
      "outputs": []
    },
    {
      "cell_type": "markdown",
      "metadata": {
        "id": "87waDA1mbBYB"
      },
      "source": [
        "Question 19"
      ]
    },
    {
      "cell_type": "code",
      "metadata": {
        "colab": {
          "base_uri": "https://localhost:8080/",
          "height": 129
        },
        "id": "A9NzBqK3a1rm",
        "outputId": "1f594650-1156-4234-e9bb-fa043f4c2c30"
      },
      "source": [
        "import datetime\n",
        "def date_string(date_val):\n",
        "  try:\n",
        "    datetime.datetime.strftime(date_val , \"%m/%d/%y\")\n",
        "    "
      ],
      "execution_count": 9,
      "outputs": [
        {
          "output_type": "error",
          "ename": "SyntaxError",
          "evalue": "ignored",
          "traceback": [
            "\u001b[0;36m  File \u001b[0;32m\"<ipython-input-9-d7df7898d3af>\"\u001b[0;36m, line \u001b[0;32m5\u001b[0m\n\u001b[0;31m    pass\u001b[0m\n\u001b[0m        ^\u001b[0m\n\u001b[0;31mSyntaxError\u001b[0m\u001b[0;31m:\u001b[0m unexpected EOF while parsing\n"
          ]
        }
      ]
    },
    {
      "cell_type": "code",
      "metadata": {
        "id": "484feVkJbb4f"
      },
      "source": [
        "import re\n",
        "def check_valid_credit(num):\n",
        "  str_num = str(num)\n",
        "\n",
        "  regex_syntax = \"^[a-zA-Z0-9]\\d{2}[a-zA-Z0-9](-\\d{3}){2}[A-Za-z0-9]$\" \n",
        "  check = re.compile(regex_syntax)\n",
        "\n",
        "  if(str_num == ''):\n",
        "    return False\n",
        "  \n",
        "  match_num = re.match(check , str_num)\n",
        "\n",
        "  if match_num is None:\n",
        "    return False\n",
        "\n",
        "  else:\n",
        "    return True"
      ],
      "execution_count": 93,
      "outputs": []
    },
    {
      "cell_type": "code",
      "metadata": {
        "colab": {
          "base_uri": "https://localhost:8080/"
        },
        "id": "FSlXf6_ycbcn",
        "outputId": "bf1788a9-ef8b-4092-d866-3a7300daefdf"
      },
      "source": [
        "c = check_valid_credit(4155279860457)\n",
        "print(c)"
      ],
      "execution_count": 94,
      "outputs": [
        {
          "output_type": "stream",
          "text": [
            "False\n"
          ],
          "name": "stdout"
        }
      ]
    },
    {
      "cell_type": "code",
      "metadata": {
        "colab": {
          "base_uri": "https://localhost:8080/"
        },
        "id": "84I2gNJ_eMs1",
        "outputId": "fada3c23-cb2b-4b8c-fea6-140ce431a060"
      },
      "source": [
        "print(check_valid_credit(6155279860457))"
      ],
      "execution_count": 20,
      "outputs": [
        {
          "output_type": "stream",
          "text": [
            "False\n"
          ],
          "name": "stdout"
        }
      ]
    },
    {
      "cell_type": "markdown",
      "metadata": {
        "id": "cKeOAR5pesxx"
      },
      "source": [
        "Question 20"
      ]
    },
    {
      "cell_type": "code",
      "metadata": {
        "colab": {
          "base_uri": "https://localhost:8080/"
        },
        "id": "Cubu1BEEeqnV",
        "outputId": "733e6df7-ac23-4332-e19f-4d17a878b69b"
      },
      "source": [
        "import timeit\n",
        "\n",
        "def function_timer(function):\n",
        "  def new_function():\n",
        "    start_time = timeit.default_timer()\n",
        "    function()\n",
        "    elapsed = timeit.default_timer() - start_time\n",
        "    print('Function \"{name}\" took {time} seconds to complete.'.format(name=function.__name__, time=elapsed))\n",
        "  return new_function()\n",
        "\n",
        "@function_timer\n",
        "def addition():\n",
        "  total = 0\n",
        "  for i in range(0,1000000):\n",
        "    total += i\n",
        "  return total"
      ],
      "execution_count": 98,
      "outputs": [
        {
          "output_type": "stream",
          "text": [
            "Function \"addition\" took 0.07938011700025527 seconds to complete.\n"
          ],
          "name": "stdout"
        }
      ]
    },
    {
      "cell_type": "markdown",
      "metadata": {
        "id": "HpvZwkEugqwM"
      },
      "source": [
        "Question 21."
      ]
    },
    {
      "cell_type": "code",
      "metadata": {
        "colab": {
          "base_uri": "https://localhost:8080/"
        },
        "id": "yFWTXFMqfy48",
        "outputId": "50b207f6-8ffe-4ebc-eb72-83c801dd01c5"
      },
      "source": [
        "import math\n",
        "\n",
        "sin_call = math.sin(45)\n",
        "\n",
        "print(sin_call)"
      ],
      "execution_count": 30,
      "outputs": [
        {
          "output_type": "stream",
          "text": [
            "0.8509035245341184\n"
          ],
          "name": "stdout"
        }
      ]
    },
    {
      "cell_type": "markdown",
      "metadata": {
        "id": "5ANMOh-smHh9"
      },
      "source": [
        "## Below the commented code snippets is for importing it as a module.\n",
        "## Saving it using mycity.py and then calling it as \n",
        "## import mycity  and then mycity.city_name(\"Delhi\") will return 'Delhi' and likewise  "
      ]
    },
    {
      "cell_type": "code",
      "metadata": {
        "id": "_x--GmG6g05-"
      },
      "source": [
        "# Creating own module..\n",
        "\n",
        "# def cit_name(city):\n",
        "#   return city\n",
        "\n",
        "# def city_state(state):\n",
        "#   return state\n",
        "\n",
        "# def city_pincode(code):\n",
        "#   return code\n",
        "\n",
        "\n",
        "\n",
        "# import mycity as mc\n",
        "\n",
        "# mc.city_name(\"Delhi\")   ----o/p => Delhi"
      ],
      "execution_count": 34,
      "outputs": []
    },
    {
      "cell_type": "markdown",
      "metadata": {
        "id": "pxuIGStJ9pzI"
      },
      "source": [
        "Question 22."
      ]
    },
    {
      "cell_type": "code",
      "metadata": {
        "colab": {
          "base_uri": "https://localhost:8080/"
        },
        "id": "wUVCWlHmiLl0",
        "outputId": "d467bbd0-8b0a-450e-d4bd-cc8a4918c6a3"
      },
      "source": [
        "from numpy import math\n",
        "\n",
        "c  = math.cos(10)\n",
        "t = math.tanh(34)\n",
        "\n",
        "r = math.radians(43)\n",
        "\n",
        "print(c,t,r)"
      ],
      "execution_count": 61,
      "outputs": [
        {
          "output_type": "stream",
          "text": [
            "-0.8390715290764524 1.0 0.7504915783575618\n"
          ],
          "name": "stdout"
        }
      ]
    },
    {
      "cell_type": "markdown",
      "metadata": {
        "id": "GNSp5vzUAzbO"
      },
      "source": [
        "Question 23. \n"
      ]
    },
    {
      "cell_type": "code",
      "metadata": {
        "id": "jS5HuqZBioPc"
      },
      "source": [
        "data = \"This is a python assignment and next would be on Flask\"\n",
        "file = open(\"file1.txt\" , \"w\")"
      ],
      "execution_count": 62,
      "outputs": []
    },
    {
      "cell_type": "code",
      "metadata": {
        "colab": {
          "base_uri": "https://localhost:8080/"
        },
        "id": "CeWBMpiGBXnW",
        "outputId": "29beac8b-b6f5-460e-c793-6cacd0999c98"
      },
      "source": [
        "file.write(data)\n",
        "print(\"Written successfully\")\n",
        "file.close()"
      ],
      "execution_count": 63,
      "outputs": [
        {
          "output_type": "stream",
          "text": [
            "Written successfully\n"
          ],
          "name": "stdout"
        }
      ]
    },
    {
      "cell_type": "code",
      "metadata": {
        "colab": {
          "base_uri": "https://localhost:8080/"
        },
        "id": "xGsLl6poBmVN",
        "outputId": "9477f33e-2bbb-4cc7-e601-8540d27eab48"
      },
      "source": [
        "read_content = open(\"file1.txt\" , \"r\")\n",
        "\n",
        "print(read_content.read())\n",
        "read_content.close()"
      ],
      "execution_count": 65,
      "outputs": [
        {
          "output_type": "stream",
          "text": [
            "This is a python assignment and next would be on Flask\n"
          ],
          "name": "stdout"
        }
      ]
    },
    {
      "cell_type": "code",
      "metadata": {
        "colab": {
          "base_uri": "https://localhost:8080/"
        },
        "id": "v7heKzq-B0aN",
        "outputId": "e71b0009-39f7-4e64-a2a9-d138495e90c7"
      },
      "source": [
        "fileOpen = open(\"file1.txt\" , \"a\")\n",
        "\n",
        "fileOpen.write(\"This is the appended text data into the previous file\")\n",
        "print(\"Appended successfully !!\\n\")"
      ],
      "execution_count": 67,
      "outputs": [
        {
          "output_type": "stream",
          "text": [
            "Appended successfully !!\n",
            "\n"
          ],
          "name": "stdout"
        }
      ]
    },
    {
      "cell_type": "code",
      "metadata": {
        "colab": {
          "base_uri": "https://localhost:8080/"
        },
        "id": "ruW0WSZzCWkP",
        "outputId": "6acd8b71-ed8c-433f-bd6e-ecfbbf5e6948"
      },
      "source": [
        "fopen = open(\"file1.txt\" , \"r\")\n",
        "print(fopen.read())\n",
        "\n",
        "fopen.close()"
      ],
      "execution_count": 68,
      "outputs": [
        {
          "output_type": "stream",
          "text": [
            "This is a python assignment and next would be on FlaskThis is the appended text data into the previous file\n"
          ],
          "name": "stdout"
        }
      ]
    },
    {
      "cell_type": "markdown",
      "metadata": {
        "id": "nDektHM0Cna9"
      },
      "source": [
        "Question 24."
      ]
    },
    {
      "cell_type": "code",
      "metadata": {
        "id": "vrQ6dCojCii8"
      },
      "source": [
        "import pandas as pd\n",
        "data = {\n",
        "    'CHN': {'COUNTRY': 'China', 'POP': 1_398.72, 'AREA': 9_596.96,\n",
        "            'GDP': 12_234.78, 'CONT': 'Asia'},\n",
        "    'IND': {'COUNTRY': 'India', 'POP': 1_351.16, 'AREA': 3_287.26,\n",
        "            'GDP': 2_575.67, 'CONT': 'Asia', 'IND_DAY': '1947-08-15'},\n",
        "    'USA': {'COUNTRY': 'US', 'POP': 329.74, 'AREA': 9_833.52,\n",
        "            'GDP': 19_485.39, 'CONT': 'N.America',\n",
        "            'IND_DAY': '1776-07-04'},\n",
        "    'IDN': {'COUNTRY': 'Indonesia', 'POP': 268.07, 'AREA': 1_910.93,\n",
        "            'GDP': 1_015.54, 'CONT': 'Asia', 'IND_DAY': '1945-08-17'}\n",
        "}\n",
        "\n",
        "columns = ('COUNTRY', 'POP', 'AREA', 'GDP', 'CONT', 'IND_DAY')\n"
      ],
      "execution_count": 73,
      "outputs": []
    },
    {
      "cell_type": "code",
      "metadata": {
        "colab": {
          "base_uri": "https://localhost:8080/",
          "height": 173
        },
        "id": "xjzLBS4NCtEk",
        "outputId": "fc252544-0fc4-491a-91fb-5b20ca9da6c7"
      },
      "source": [
        "df = pd.DataFrame(data = data , index = columns).transpose()\n",
        "\n",
        "df.head(5)"
      ],
      "execution_count": 77,
      "outputs": [
        {
          "output_type": "execute_result",
          "data": {
            "text/html": [
              "<div>\n",
              "<style scoped>\n",
              "    .dataframe tbody tr th:only-of-type {\n",
              "        vertical-align: middle;\n",
              "    }\n",
              "\n",
              "    .dataframe tbody tr th {\n",
              "        vertical-align: top;\n",
              "    }\n",
              "\n",
              "    .dataframe thead th {\n",
              "        text-align: right;\n",
              "    }\n",
              "</style>\n",
              "<table border=\"1\" class=\"dataframe\">\n",
              "  <thead>\n",
              "    <tr style=\"text-align: right;\">\n",
              "      <th></th>\n",
              "      <th>COUNTRY</th>\n",
              "      <th>POP</th>\n",
              "      <th>AREA</th>\n",
              "      <th>GDP</th>\n",
              "      <th>CONT</th>\n",
              "      <th>IND_DAY</th>\n",
              "    </tr>\n",
              "  </thead>\n",
              "  <tbody>\n",
              "    <tr>\n",
              "      <th>CHN</th>\n",
              "      <td>China</td>\n",
              "      <td>1398.72</td>\n",
              "      <td>9596.96</td>\n",
              "      <td>12234.8</td>\n",
              "      <td>Asia</td>\n",
              "      <td>NaN</td>\n",
              "    </tr>\n",
              "    <tr>\n",
              "      <th>IND</th>\n",
              "      <td>India</td>\n",
              "      <td>1351.16</td>\n",
              "      <td>3287.26</td>\n",
              "      <td>2575.67</td>\n",
              "      <td>Asia</td>\n",
              "      <td>1947-08-15</td>\n",
              "    </tr>\n",
              "    <tr>\n",
              "      <th>USA</th>\n",
              "      <td>US</td>\n",
              "      <td>329.74</td>\n",
              "      <td>9833.52</td>\n",
              "      <td>19485.4</td>\n",
              "      <td>N.America</td>\n",
              "      <td>1776-07-04</td>\n",
              "    </tr>\n",
              "    <tr>\n",
              "      <th>IDN</th>\n",
              "      <td>Indonesia</td>\n",
              "      <td>268.07</td>\n",
              "      <td>1910.93</td>\n",
              "      <td>1015.54</td>\n",
              "      <td>Asia</td>\n",
              "      <td>1945-08-17</td>\n",
              "    </tr>\n",
              "  </tbody>\n",
              "</table>\n",
              "</div>"
            ],
            "text/plain": [
              "       COUNTRY      POP     AREA      GDP       CONT     IND_DAY\n",
              "CHN      China  1398.72  9596.96  12234.8       Asia         NaN\n",
              "IND      India  1351.16  3287.26  2575.67       Asia  1947-08-15\n",
              "USA         US   329.74  9833.52  19485.4  N.America  1776-07-04\n",
              "IDN  Indonesia   268.07  1910.93  1015.54       Asia  1945-08-17"
            ]
          },
          "metadata": {},
          "execution_count": 77
        }
      ]
    },
    {
      "cell_type": "code",
      "metadata": {
        "colab": {
          "base_uri": "https://localhost:8080/"
        },
        "id": "wzo9hNvJE0d8",
        "outputId": "51c09383-dd20-447a-f563-2e64fdf0c4b7"
      },
      "source": [
        "df.to_csv(\"country_data.csv\")\n",
        "print(\"Converted successfully to a csv file !!\")"
      ],
      "execution_count": 78,
      "outputs": [
        {
          "output_type": "stream",
          "text": [
            "Converted successfully to a csv file !!\n"
          ],
          "name": "stdout"
        }
      ]
    },
    {
      "cell_type": "code",
      "metadata": {
        "id": "ohgC0I4lFTFw"
      },
      "source": [
        "pincode = [123,567,789,987]\n",
        "df['Pincode'] = pincode"
      ],
      "execution_count": 79,
      "outputs": []
    },
    {
      "cell_type": "code",
      "metadata": {
        "colab": {
          "base_uri": "https://localhost:8080/",
          "height": 173
        },
        "id": "2tQIleYpFoXj",
        "outputId": "88fa7bfa-0dac-4114-82c3-c5cba95d7316"
      },
      "source": [
        "df"
      ],
      "execution_count": 80,
      "outputs": [
        {
          "output_type": "execute_result",
          "data": {
            "text/html": [
              "<div>\n",
              "<style scoped>\n",
              "    .dataframe tbody tr th:only-of-type {\n",
              "        vertical-align: middle;\n",
              "    }\n",
              "\n",
              "    .dataframe tbody tr th {\n",
              "        vertical-align: top;\n",
              "    }\n",
              "\n",
              "    .dataframe thead th {\n",
              "        text-align: right;\n",
              "    }\n",
              "</style>\n",
              "<table border=\"1\" class=\"dataframe\">\n",
              "  <thead>\n",
              "    <tr style=\"text-align: right;\">\n",
              "      <th></th>\n",
              "      <th>COUNTRY</th>\n",
              "      <th>POP</th>\n",
              "      <th>AREA</th>\n",
              "      <th>GDP</th>\n",
              "      <th>CONT</th>\n",
              "      <th>IND_DAY</th>\n",
              "      <th>Pincode</th>\n",
              "    </tr>\n",
              "  </thead>\n",
              "  <tbody>\n",
              "    <tr>\n",
              "      <th>CHN</th>\n",
              "      <td>China</td>\n",
              "      <td>1398.72</td>\n",
              "      <td>9596.96</td>\n",
              "      <td>12234.8</td>\n",
              "      <td>Asia</td>\n",
              "      <td>NaN</td>\n",
              "      <td>123</td>\n",
              "    </tr>\n",
              "    <tr>\n",
              "      <th>IND</th>\n",
              "      <td>India</td>\n",
              "      <td>1351.16</td>\n",
              "      <td>3287.26</td>\n",
              "      <td>2575.67</td>\n",
              "      <td>Asia</td>\n",
              "      <td>1947-08-15</td>\n",
              "      <td>567</td>\n",
              "    </tr>\n",
              "    <tr>\n",
              "      <th>USA</th>\n",
              "      <td>US</td>\n",
              "      <td>329.74</td>\n",
              "      <td>9833.52</td>\n",
              "      <td>19485.4</td>\n",
              "      <td>N.America</td>\n",
              "      <td>1776-07-04</td>\n",
              "      <td>789</td>\n",
              "    </tr>\n",
              "    <tr>\n",
              "      <th>IDN</th>\n",
              "      <td>Indonesia</td>\n",
              "      <td>268.07</td>\n",
              "      <td>1910.93</td>\n",
              "      <td>1015.54</td>\n",
              "      <td>Asia</td>\n",
              "      <td>1945-08-17</td>\n",
              "      <td>987</td>\n",
              "    </tr>\n",
              "  </tbody>\n",
              "</table>\n",
              "</div>"
            ],
            "text/plain": [
              "       COUNTRY      POP     AREA      GDP       CONT     IND_DAY  Pincode\n",
              "CHN      China  1398.72  9596.96  12234.8       Asia         NaN      123\n",
              "IND      India  1351.16  3287.26  2575.67       Asia  1947-08-15      567\n",
              "USA         US   329.74  9833.52  19485.4  N.America  1776-07-04      789\n",
              "IDN  Indonesia   268.07  1910.93  1015.54       Asia  1945-08-17      987"
            ]
          },
          "metadata": {},
          "execution_count": 80
        }
      ]
    },
    {
      "cell_type": "code",
      "metadata": {
        "id": "NOVbY1R5FpWT"
      },
      "source": [
        "df.to_csv(\"country.csv\")"
      ],
      "execution_count": 81,
      "outputs": []
    },
    {
      "cell_type": "code",
      "metadata": {
        "colab": {
          "base_uri": "https://localhost:8080/",
          "height": 224
        },
        "id": "kCqklmUGFwMb",
        "outputId": "ed536ee6-939d-4a65-b853-4b5297489205"
      },
      "source": [
        "print(\"After updating, reading the csv file :: \\n\\n\")\n",
        "pd.read_csv(\"country.csv\")"
      ],
      "execution_count": 83,
      "outputs": [
        {
          "output_type": "stream",
          "text": [
            "After updating, reading the csv file :: \n",
            "\n",
            "\n"
          ],
          "name": "stdout"
        },
        {
          "output_type": "execute_result",
          "data": {
            "text/html": [
              "<div>\n",
              "<style scoped>\n",
              "    .dataframe tbody tr th:only-of-type {\n",
              "        vertical-align: middle;\n",
              "    }\n",
              "\n",
              "    .dataframe tbody tr th {\n",
              "        vertical-align: top;\n",
              "    }\n",
              "\n",
              "    .dataframe thead th {\n",
              "        text-align: right;\n",
              "    }\n",
              "</style>\n",
              "<table border=\"1\" class=\"dataframe\">\n",
              "  <thead>\n",
              "    <tr style=\"text-align: right;\">\n",
              "      <th></th>\n",
              "      <th>Unnamed: 0</th>\n",
              "      <th>COUNTRY</th>\n",
              "      <th>POP</th>\n",
              "      <th>AREA</th>\n",
              "      <th>GDP</th>\n",
              "      <th>CONT</th>\n",
              "      <th>IND_DAY</th>\n",
              "      <th>Pincode</th>\n",
              "    </tr>\n",
              "  </thead>\n",
              "  <tbody>\n",
              "    <tr>\n",
              "      <th>0</th>\n",
              "      <td>CHN</td>\n",
              "      <td>China</td>\n",
              "      <td>1398.72</td>\n",
              "      <td>9596.96</td>\n",
              "      <td>12234.78</td>\n",
              "      <td>Asia</td>\n",
              "      <td>NaN</td>\n",
              "      <td>123</td>\n",
              "    </tr>\n",
              "    <tr>\n",
              "      <th>1</th>\n",
              "      <td>IND</td>\n",
              "      <td>India</td>\n",
              "      <td>1351.16</td>\n",
              "      <td>3287.26</td>\n",
              "      <td>2575.67</td>\n",
              "      <td>Asia</td>\n",
              "      <td>1947-08-15</td>\n",
              "      <td>567</td>\n",
              "    </tr>\n",
              "    <tr>\n",
              "      <th>2</th>\n",
              "      <td>USA</td>\n",
              "      <td>US</td>\n",
              "      <td>329.74</td>\n",
              "      <td>9833.52</td>\n",
              "      <td>19485.39</td>\n",
              "      <td>N.America</td>\n",
              "      <td>1776-07-04</td>\n",
              "      <td>789</td>\n",
              "    </tr>\n",
              "    <tr>\n",
              "      <th>3</th>\n",
              "      <td>IDN</td>\n",
              "      <td>Indonesia</td>\n",
              "      <td>268.07</td>\n",
              "      <td>1910.93</td>\n",
              "      <td>1015.54</td>\n",
              "      <td>Asia</td>\n",
              "      <td>1945-08-17</td>\n",
              "      <td>987</td>\n",
              "    </tr>\n",
              "  </tbody>\n",
              "</table>\n",
              "</div>"
            ],
            "text/plain": [
              "  Unnamed: 0    COUNTRY      POP  ...       CONT     IND_DAY Pincode\n",
              "0        CHN      China  1398.72  ...       Asia         NaN     123\n",
              "1        IND      India  1351.16  ...       Asia  1947-08-15     567\n",
              "2        USA         US   329.74  ...  N.America  1776-07-04     789\n",
              "3        IDN  Indonesia   268.07  ...       Asia  1945-08-17     987\n",
              "\n",
              "[4 rows x 8 columns]"
            ]
          },
          "metadata": {},
          "execution_count": 83
        }
      ]
    },
    {
      "cell_type": "code",
      "metadata": {
        "id": "189_19UDF4Wz"
      },
      "source": [
        ""
      ],
      "execution_count": null,
      "outputs": []
    }
  ]
}